{
 "cells": [
  {
   "cell_type": "markdown",
   "metadata": {},
   "source": [
    "**Task_1** <br>\n",
    "returns a tuple with 3 elements - first, third and second to the last"
   ]
  },
  {
   "cell_type": "code",
   "execution_count": 1,
   "metadata": {},
   "outputs": [
    {
     "data": {
      "text/plain": [
       "(1, 3, 7)"
      ]
     },
     "execution_count": 1,
     "metadata": {},
     "output_type": "execute_result"
    }
   ],
   "source": [
    "def easy_unpack(elements: tuple) -> tuple: \n",
    "    return ((elements[0],) + (elements[2],) + (elements[-2],))\n",
    "\n",
    "easy_unpack((1, 2, 3, 4, 5, 6, 7, 9))"
   ]
  },
  {
   "cell_type": "markdown",
   "metadata": {},
   "source": [
    "**Task_2** <br>\n",
    "returns the first word in a given text."
   ]
  },
  {
   "cell_type": "code",
   "execution_count": 2,
   "metadata": {},
   "outputs": [
    {
     "data": {
      "text/plain": [
       "'Hello'"
      ]
     },
     "execution_count": 2,
     "metadata": {},
     "output_type": "execute_result"
    }
   ],
   "source": [
    "def first_word(text: str) -> str:\n",
    "    \"\"\"\n",
    "        returns the first word in a given text.\n",
    "    \"\"\"\n",
    "    first_world = ''\n",
    "        \n",
    "    for letter in text:\n",
    "        if letter == ' ':\n",
    "            break\n",
    "        else:\n",
    "            first_world += letter\n",
    "\n",
    "    return first_world\n",
    "\n",
    "first_word(\"Hello world\")"
   ]
  },
  {
   "cell_type": "markdown",
   "metadata": {},
   "source": [
    "**Task 3**<br>\n",
    "Check whether password bigger than 6 letters or not?"
   ]
  },
  {
   "cell_type": "code",
   "execution_count": 5,
   "metadata": {},
   "outputs": [
    {
     "data": {
      "text/plain": [
       "False"
      ]
     },
     "execution_count": 5,
     "metadata": {},
     "output_type": "execute_result"
    }
   ],
   "source": [
    "def is_acceptable_password(password: str) -> bool:\n",
    "    # your code here\n",
    "    length = len(password)\n",
    "    return True if length > 6 else False\n",
    "\n",
    "is_acceptable_password('short')"
   ]
  },
  {
   "cell_type": "markdown",
   "metadata": {},
   "source": [
    "**Task 4**<br>\n",
    "You have a positive integer. Try to find out how many digits it has?"
   ]
  },
  {
   "cell_type": "code",
   "execution_count": 7,
   "metadata": {},
   "outputs": [
    {
     "data": {
      "text/plain": [
       "2"
      ]
     },
     "execution_count": 7,
     "metadata": {},
     "output_type": "execute_result"
    }
   ],
   "source": [
    "def number_length(a: int) -> int:\n",
    "    return len(str(a))\n",
    "\n",
    "number_length(10)"
   ]
  },
  {
   "cell_type": "markdown",
   "metadata": {},
   "source": [
    "**Task 5**<br>\n",
    "Try to find out how many zeros a given number has at the end."
   ]
  },
  {
   "cell_type": "code",
   "execution_count": 8,
   "metadata": {},
   "outputs": [
    {
     "data": {
      "text/plain": [
       "2"
      ]
     },
     "execution_count": 8,
     "metadata": {},
     "output_type": "execute_result"
    }
   ],
   "source": [
    "#without using google:\n",
    "\n",
    "def end_zeros(num: int) -> int:\n",
    "    # your code here\n",
    "    count = 0\n",
    "    if str(num).endswith('0') == True:\n",
    "        for digit in reversed(str(num)):\n",
    "            if digit == '0':\n",
    "                count += 1\n",
    "            else: \n",
    "                break\n",
    "    return count\n",
    "\n",
    "end_zeros(100100)"
   ]
  },
  {
   "cell_type": "code",
   "execution_count": 11,
   "metadata": {},
   "outputs": [
    {
     "data": {
      "text/plain": [
       "2"
      ]
     },
     "execution_count": 11,
     "metadata": {},
     "output_type": "execute_result"
    }
   ],
   "source": [
    "#with google:\n",
    "import itertools as it\n",
    "\n",
    "def end_zeros2(num: int) -> int:\n",
    "    return sum(1 for _ in it.takewhile(lambda c: c == '0', reversed(str(num))))\n",
    "\n",
    "end_zeros2(100100)"
   ]
  },
  {
   "cell_type": "markdown",
   "metadata": {},
   "source": [
    "**Task 6**<br>\n",
    "You should return a given string in reverse order."
   ]
  },
  {
   "cell_type": "code",
   "execution_count": 12,
   "metadata": {},
   "outputs": [
    {
     "data": {
      "text/plain": [
       "'987654321'"
      ]
     },
     "execution_count": 12,
     "metadata": {},
     "output_type": "execute_result"
    }
   ],
   "source": [
    "def backward_string(val: str) -> str:\n",
    "    # your code here\n",
    "    return val[::-1]\n",
    "\n",
    "backward_string('123456789')"
   ]
  },
  {
   "cell_type": "markdown",
   "metadata": {},
   "source": [
    "**Task 7**<br>\n",
    "Not all of the elements are important. What you need to do here is to remove from the list all of the elements before the given one.<br>\n",
    "For the illustration we have a list [3, 4, 5] and we need to remove all elements that go before 3 - which is 1 and 2.<br>\n",
    "We have two edge cases here: (1) if a cutting element cannot be found, then the list shoudn't be changed. (2) if the list is empty, then it should remain empty."
   ]
  },
  {
   "cell_type": "code",
   "execution_count": 14,
   "metadata": {},
   "outputs": [
    {
     "data": {
      "text/plain": [
       "[3, 4, 5]"
      ]
     },
     "execution_count": 14,
     "metadata": {},
     "output_type": "execute_result"
    }
   ],
   "source": [
    "from typing import Iterable\n",
    "\n",
    "\n",
    "def remove_all_before(items: list, border: int) -> Iterable:\n",
    "    # your code here\n",
    "    for i, item in enumerate(items):\n",
    "        if item == border:\n",
    "            items = items[i:]\n",
    "            break\n",
    "    return items\n",
    "\n",
    "remove_all_before([1, 2, 3, 4, 5], 3)"
   ]
  },
  {
   "cell_type": "markdown",
   "metadata": {},
   "source": [
    "**Task 8**<br>\n",
    "Check if a given string has all symbols in upper case. If the string is empty or doesn't have any letter in it - function should return True."
   ]
  },
  {
   "cell_type": "code",
   "execution_count": 31,
   "metadata": {},
   "outputs": [
    {
     "data": {
      "text/plain": [
       "True"
      ]
     },
     "execution_count": 31,
     "metadata": {},
     "output_type": "execute_result"
    }
   ],
   "source": [
    "def is_all_upper(text: str) -> bool:\n",
    "    \n",
    "    if not text:\n",
    "        answer = True\n",
    "    elif text.isnumeric():\n",
    "        answer = True\n",
    "    elif text.isspace():\n",
    "        answer = True\n",
    "    else:\n",
    "        answer = text.isupper() \n",
    "    return answer\n",
    "\n",
    "is_all_upper(' ')"
   ]
  },
  {
   "cell_type": "markdown",
   "metadata": {},
   "source": [
    "**Task 9**<br>\n",
    "In a given list the first element should become the last one. An empty list or list with only one element should stay the same."
   ]
  },
  {
   "cell_type": "code",
   "execution_count": 35,
   "metadata": {},
   "outputs": [
    {
     "data": {
      "text/plain": [
       "[2, 3, 4, 1]"
      ]
     },
     "execution_count": 35,
     "metadata": {},
     "output_type": "execute_result"
    }
   ],
   "source": [
    "def replace_first(items: list) -> Iterable:\n",
    "\n",
    "    return items[1:] + [items[0]] if items else items\n",
    "\n",
    "replace_first([1, 2, 3, 4])"
   ]
  },
  {
   "cell_type": "markdown",
   "metadata": {},
   "source": [
    "**Task 10**<br>\n",
    "You have a number and you need to determine which digit in this number is the biggest."
   ]
  },
  {
   "cell_type": "code",
   "execution_count": 36,
   "metadata": {},
   "outputs": [
    {
     "data": {
      "text/plain": [
       "6"
      ]
     },
     "execution_count": 36,
     "metadata": {},
     "output_type": "execute_result"
    }
   ],
   "source": [
    "def max_digit(number: int) -> int:\n",
    "    # your code here\n",
    "    number = str(number)\n",
    "    max_number = max(number).split(' ')\n",
    "    return int(max_number[0])\n",
    "\n",
    "max_digit(634)"
   ]
  },
  {
   "cell_type": "markdown",
   "metadata": {},
   "source": [
    "**Task 11**<br>\n",
    "Split the string into pairs of two characters. If the string contains an odd number of characters,<br>\n",
    "then the missing second character of the final pair should be replaced with an underscore ('_')."
   ]
  },
  {
   "cell_type": "code",
   "execution_count": 57,
   "metadata": {},
   "outputs": [
    {
     "data": {
      "text/plain": [
       "['ab', 'cd', 'f_']"
      ]
     },
     "execution_count": 57,
     "metadata": {},
     "output_type": "execute_result"
    }
   ],
   "source": [
    "def split_pairs(a):\n",
    "    # your code here\n",
    "    final = []\n",
    "    a = list(a)\n",
    "    \n",
    "    if len(a) % 2 == 0:\n",
    "        number = len(a)\n",
    "        for i in range(0, number, 2):\n",
    "            final.append(a[i] + a[i+1])\n",
    "    else: \n",
    "        a.append('_')\n",
    "        number = len(a)\n",
    "        for i in range(0, number, 2):\n",
    "            final.append(a[i] + a[i+1])\n",
    "        \n",
    "    return final\n",
    "\n",
    "split_pairs('abcdf')"
   ]
  },
  {
   "cell_type": "markdown",
   "metadata": {},
   "source": [
    "**Task 12**<br>\n",
    "You have a string that consist only of digits. You need to find how many zero digits (\"0\") are at the beginning of the given string."
   ]
  },
  {
   "cell_type": "code",
   "execution_count": 59,
   "metadata": {},
   "outputs": [
    {
     "data": {
      "text/plain": [
       "2"
      ]
     },
     "execution_count": 59,
     "metadata": {},
     "output_type": "execute_result"
    }
   ],
   "source": [
    "def beginning_zeros(number: str) -> int:\n",
    "    \n",
    "    repetetion = 0\n",
    "    if number.startswith('0'):\n",
    "        \n",
    "        for digit in number:\n",
    "            if digit == '0':\n",
    "                repetetion += 1\n",
    "            else:\n",
    "                break\n",
    "            \n",
    "    return repetetion\n",
    "\n",
    "beginning_zeros('001001')"
   ]
  },
  {
   "cell_type": "markdown",
   "metadata": {},
   "source": [
    "**Task 13**<br>\n",
    "Find the nearest value to the given one.\n",
    "\n",
    "You are given a list of values as set form and a value for which you need to find the nearest one.\n",
    "\n",
    "For example, we have the following set of numbers: 4, 7, 10, 11, 12, 17, and we need to find the nearest value to the number 9. If we sort this set in the ascending order, then to the left of number 9 will be number 7 and to the right - will be number 10. But 10 is closer than 7, which means that the correct answer is 10.\n",
    "\n",
    "A few clarifications:\n",
    "\n",
    "If 2 numbers are at the same distance, you need to choose the smallest one;\n",
    "The set of numbers is always non-empty, i.e. the size is >=1;\n",
    "The given value can be in this set, which means that it’s the answer;\n",
    "The set can contain both positive and negative numbers, but they are always integers;\n",
    "The set isn’t sorted and consists of unique numbers."
   ]
  },
  {
   "cell_type": "code",
   "execution_count": 80,
   "metadata": {},
   "outputs": [
    {
     "data": {
      "text/plain": [
       "8"
      ]
     },
     "execution_count": 80,
     "metadata": {},
     "output_type": "execute_result"
    }
   ],
   "source": [
    "#used google\n",
    "def nearest_value(values: set, one: int) -> int:\n",
    "    dictionary = {}\n",
    "    [dictionary.update({i:abs(number - one)}) for i,number in enumerate(values)]\n",
    "    min_value = min(dictionary.values())\n",
    "    \n",
    "    #If 2 numbers are at the same distance, we have to get all indexes\n",
    "    best_indexes = [key for key, value in dictionary.items() if value == min_value]\n",
    "    \n",
    "    #set is not iterable so we have to convert it to list to get exact values by indexes\n",
    "    list_of_values = list(values)\n",
    "    \n",
    "    #get real numbers from list\n",
    "    nearest_value = []\n",
    "    for idx in best_indexes:\n",
    "        nearest_value.append(list_of_values[idx])\n",
    "        \n",
    "    #choose the smallest one\n",
    "    return min(nearest_value)\n",
    "\n",
    "nearest_value({5, 10, 8, 12, 89, 100}, 7)"
   ]
  },
  {
   "cell_type": "markdown",
   "metadata": {},
   "source": [
    "**Task 14**<br>\n",
    "You are given a string and two markers (the initial one and final).<br> You have to find a substring enclosed between these two markers. But there are a few important conditions.\n",
    "\n",
    "This is a simplified version of the Between Markers mission.\n",
    "\n",
    "- The initial and final markers are always different.<br>\n",
    "- The initial and final markers are always 1 char size.<br>\n",
    "- The initial and final markers always exist in a string and go one after another<br>"
   ]
  },
  {
   "cell_type": "code",
   "execution_count": 82,
   "metadata": {},
   "outputs": [
    {
     "data": {
      "text/plain": [
       "'apple'"
      ]
     },
     "execution_count": 82,
     "metadata": {},
     "output_type": "execute_result"
    }
   ],
   "source": [
    "def between_markers(text: str, begin: str, end: str) -> str:\n",
    "    \n",
    "    start_point = text.find(begin) + 1  \n",
    "    end_point = text.find(end) \n",
    "\n",
    "    return text[start_point:end_point]\n",
    "\n",
    "between_markers('What is >apple<', '>', '<')"
   ]
  },
  {
   "cell_type": "markdown",
   "metadata": {},
   "source": [
    "**Task 15**<br>\n",
    "For the input of your function, you will be given one sentence. <br>\n",
    "You have to return a corrected version, that starts with a capital letter and ends with a period (dot).<br>\n",
    "\n",
    "Pay attention to the fact that not all of the fixes are necessary.<br>\n",
    "If a sentence already ends with a period (dot), then adding another one will be a mistake.<br>"
   ]
  },
  {
   "cell_type": "code",
   "execution_count": 93,
   "metadata": {},
   "outputs": [
    {
     "data": {
      "text/plain": [
       "'Welcome to New York.'"
      ]
     },
     "execution_count": 93,
     "metadata": {},
     "output_type": "execute_result"
    }
   ],
   "source": [
    "def correct_sentence(text: str) -> str:\n",
    "\n",
    "    text = text[:1].upper() + text[1:]\n",
    "    \n",
    "    if text[-1] != '.':\n",
    "        text = text + '.'\n",
    "        \n",
    "    return text\n",
    "\n",
    "correct_sentence(\"welcome to New York\")"
   ]
  },
  {
   "cell_type": "markdown",
   "metadata": {},
   "source": [
    "**Task 16**<br>\n",
    "Check if the given number is even or not.<br>\n",
    "Your function should return True if the number is even, and False if the number is odd.\n"
   ]
  },
  {
   "cell_type": "code",
   "execution_count": 94,
   "metadata": {},
   "outputs": [
    {
     "data": {
      "text/plain": [
       "True"
      ]
     },
     "execution_count": 94,
     "metadata": {},
     "output_type": "execute_result"
    }
   ],
   "source": [
    "def is_even(num: int) -> bool:\n",
    "    return True if num%2 == 0 else False\n",
    "\n",
    "is_even(2) "
   ]
  }
 ],
 "metadata": {
  "kernelspec": {
   "display_name": "Python 3",
   "language": "python",
   "name": "python3"
  },
  "language_info": {
   "codemirror_mode": {
    "name": "ipython",
    "version": 3
   },
   "file_extension": ".py",
   "mimetype": "text/x-python",
   "name": "python",
   "nbconvert_exporter": "python",
   "pygments_lexer": "ipython3",
   "version": "3.7.4"
  }
 },
 "nbformat": 4,
 "nbformat_minor": 2
}
