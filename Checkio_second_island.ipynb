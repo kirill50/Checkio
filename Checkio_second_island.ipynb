{
 "cells": [
  {
   "cell_type": "raw",
   "metadata": {
    "collapsed": false
   },
   "source": [
    "**Task1** <br> In the given text you should sum the numbers"
   ]
  },
  {
   "cell_type": "code",
   "execution_count": 0,
   "metadata": {
    "collapsed": false
   },
   "outputs": [
   ],
   "source": [
    "def sum_numbers(text:str) -> int:\n",
    "    numbers = (int(element) for element in text if element.isdigit())\n",
    "    number = sum(numbers)\n",
    "    return number\n",
    "\n",
    "sum_numbers('The 1999 was the last year of 20 century')"
   ]
  },
  {
   "cell_type": "raw",
   "metadata": {
    "collapsed": false
   },
   "source": [
    "**Task 2**\n",
    "You are given an array of integers. You should find the sum of the integers with even indexes (0th, 2nd, 4th...). Then multiply this summed number and the final element of the array together. Don't forget that the first element has an index of 0.\n",
    "\n",
    "For an empty array, the result will always be 0 (zero)."
   ]
  },
  {
   "cell_type": "code",
   "execution_count": 4,
   "metadata": {
    "collapsed": false
   },
   "outputs": [
    {
     "data": {
      "text/plain": [
       "30"
      ]
     },
     "execution_count": 4,
     "metadata": {
     },
     "output_type": "execute_result"
    }
   ],
   "source": [
    "def eventhelast(listofnumbers:list) -> int:\n",
    "    total = 0\n",
    "    for i in range(len(listofnumbers)):\n",
    "        total+=listofnumbers[i] if i%2 == 0 else 0    \n",
    "    total = total * listofnumbers[-1]\n",
    "    return total\n",
    "\n",
    "eventhelast([0, 1, 2, 3, 4, 5])"
   ]
  },
  {
   "cell_type": "raw",
   "metadata": {
    "collapsed": false
   },
   "source": [
    "**Task3**\n",
    "You are given a sequence of strings. You should join these strings into a chunk of text where the initial strings are separated by commas. As a joke on the right handed robots, you should replace all cases of the words \"right\" with the word \"left\", even if it's a part of another word. All strings are given in lowercase."
   ]
  },
  {
   "cell_type": "code",
   "execution_count": 20,
   "metadata": {
    "collapsed": false
   },
   "outputs": [
    {
     "data": {
      "text/plain": [
       "'left,bleftness,left,stop'"
      ]
     },
     "execution_count": 20,
     "metadata": {
     },
     "output_type": "execute_result"
    }
   ],
   "source": [
    "def left_join(phrases:tuple) -> str: \n",
    "    final_str = ''\n",
    "    for word in phrases:\n",
    "        if 'right' in word:\n",
    "            index = word.find('right')\n",
    "            left = word[:index] + 'left' + word[index+5:] + ','\n",
    "            final_str = final_str + left\n",
    "        else:\n",
    "            final_str = final_str + word + ','\n",
    "        \n",
    "    return final_str[:-1]\n",
    "\n",
    "left_join((\"left\", \"brightness\", \"left\", \"stop\"))"
   ]
  },
  {
   "cell_type": "raw",
   "metadata": {
    "collapsed": false
   },
   "source": [
    "**Task4**\n",
    "You are given a string with words and numbers separated by whitespaces (one space). The words contains only letters. You should check if the string contains three words in succession. For example, the string \"start 5 one two three 7 end\" contains three words in succession."
   ]
  },
  {
   "cell_type": "code",
   "execution_count": 25,
   "metadata": {
    "collapsed": false
   },
   "outputs": [
    {
     "data": {
      "text/plain": [
       "False"
      ]
     },
     "execution_count": 25,
     "metadata": {
     },
     "output_type": "execute_result"
    }
   ],
   "source": [
    "def checkio(words:str) -> bool:\n",
    "    counter = 0\n",
    "    for word in words.split(' '):\n",
    "        if word.isalpha() == True:\n",
    "            counter += 1\n",
    "            if counter == 3:\n",
    "                three_consecutive = True\n",
    "                break           \n",
    "        else:\n",
    "            counter = 0\n",
    "            \n",
    "        three_consecutive = False\n",
    "    return three_consecutive\n",
    "\n",
    "checkio('1 Hello 3 world to 5')"
   ]
  },
  {
   "cell_type": "raw",
   "metadata": {
    "collapsed": false
   },
   "source": [
    "**Task5**\n",
    "You are given a string where you have to find its first word.\n",
    "\n",
    "When solving a task pay attention to the following points:\n",
    "There can be dots and commas in a string.\n",
    "A string can start with a letter or, for example, a dot or space.\n",
    "A word can contain an apostrophe and it's a part of a word.\n",
    "The whole text can be represented with one word and that's it."
   ]
  },
  {
   "cell_type": "code",
   "execution_count": 52,
   "metadata": {
    "collapsed": false
   },
   "outputs": [
    {
     "data": {
      "text/plain": [
       "'tan'"
      ]
     },
     "execution_count": 52,
     "metadata": {
     },
     "output_type": "execute_result"
    }
   ],
   "source": [
    "def first_word(text:str) -> str:\n",
    "    first_word_end_idx = text.find(' ') if not text.startswith(' ') else text[1:].find(' ') + 1\n",
    "    text = text[:first_word_end_idx]\n",
    "    text = ''.join([letter for letter in text if letter.isalpha()])\n",
    "    return text\n",
    "\n",
    "first_word(' --tan example')"
   ]
  },
  {
   "cell_type": "raw",
   "metadata": {
    "collapsed": false
   },
   "source": [
    "**Task6**\n",
    "How old are you in a number of days? It's easy to calculate - just subtract your birthday from today. We could make this a real challenge though and count the difference between any dates.\n",
    "\n",
    "You are given two dates as an array with three numbers - a year, month and day. For example: 19 April 1982 will be (1982, 4, 19). You should find the difference in days between the given dates. For example between today and tomorrow = 1 day. The difference will always be either a positive number or zero, so don't forget about the absolute value."
   ]
  },
  {
   "cell_type": "code",
   "execution_count": 6,
   "metadata": {
    "collapsed": false
   },
   "outputs": [
    {
     "data": {
      "text/plain": [
       "3"
      ]
     },
     "execution_count": 6,
     "metadata": {
     },
     "output_type": "execute_result"
    }
   ],
   "source": [
    "from datetime import datetime\n",
    "\n",
    "def days_diff(a, b):\n",
    "    start_date = datetime(*a)\n",
    "    end_date = datetime(*b)\n",
    "    difference = abs(end_date - start_date)\n",
    "    return difference.days\n",
    "\n",
    "days_diff((1982, 4, 22), (1982, 4, 19))"
   ]
  },
  {
   "cell_type": "raw",
   "metadata": {
    "collapsed": false
   },
   "source": [
    "**Task7**\n",
    "You need to count the number of digits in a given string."
   ]
  },
  {
   "cell_type": "code",
   "execution_count": 2,
   "metadata": {
    "collapsed": false
   },
   "outputs": [
    {
     "data": {
      "text/plain": [
       "3"
      ]
     },
     "execution_count": 2,
     "metadata": {
     },
     "output_type": "execute_result"
    }
   ],
   "source": [
    "def  count_digits(text:str) -> int:\n",
    "    digits = sum(1 for element in list(text) if element.isdigit())\n",
    "    return digits\n",
    "\n",
    "count_digits('The number of houses are 123')"
   ]
  },
  {
   "cell_type": "raw",
   "metadata": {
    "collapsed": false
   },
   "source": [
    "**Task8**\n",
    "In a given string you should reverse every word, but the words should stay in their places."
   ]
  },
  {
   "cell_type": "code",
   "execution_count": 23,
   "metadata": {
    "collapsed": false
   },
   "outputs": [
    {
     "data": {
      "text/plain": [
       "'olleH yttik'"
      ]
     },
     "execution_count": 23,
     "metadata": {
     },
     "output_type": "execute_result"
    }
   ],
   "source": [
    "def backward_string_by_word(text:str) -> str:\n",
    "    if text:\n",
    "        text = [word[::-1] + ' ' for word in text.split(' ')]\n",
    "        text = ''.join(text)\n",
    "    return text[:-1]\n",
    "               \n",
    "backward_string_by_word('Hello kitty')"
   ]
  },
  {
   "cell_type": "raw",
   "metadata": {
    "collapsed": false
   },
   "source": [
    "**Task9**\n",
    "You have a table with all available goods in the store. The data is represented as a list of dicts\n",
    "\n",
    "Your mission here is to find the TOP most expensive goods. The amount we are looking for will be given as a first argument and the whole data as the second."
   ]
  },
  {
   "cell_type": "code",
   "execution_count": 26,
   "metadata": {
    "collapsed": false
   },
   "outputs": [
    {
     "data": {
      "text/plain": [
       "[{'name': 'wine', 'price': 138}, {'name': 'bread', 'price': 100}]"
      ]
     },
     "execution_count": 26,
     "metadata": {
     },
     "output_type": "execute_result"
    }
   ],
   "source": [
    "def bigger_price(limit: int, data: list) -> list:\n",
    "    most_expensive = sorted(data, key=lambda k: k['price'], reverse = True)\n",
    "    return most_expensive[:limit]\n",
    "\n",
    "bigger_price(2, [{'name':'bread', 'price':100},\n",
    "                 {'name':'wine', 'price':138},\n",
    "                 {'name':'meat', 'price':15},\n",
    "                 {'name':'water', 'price':1}             \n",
    "                ])"
   ]
  },
  {
   "cell_type": "raw",
   "metadata": {
    "collapsed": false
   },
   "source": [
    "**Task10**\n",
    "You are given a string and two markers (the initial and final). You have to find a substring enclosed between these two markers. But there are a few important conditions:\n",
    "\n",
    "The initial and final markers are always different.\n",
    "If there is no initial marker, then the first character should be considered the beginning of a string.\n",
    "If there is no final marker, then the last character should be considered the ending of a string.\n",
    "If the initial and final markers are missing then simply return the whole string.\n",
    "If the final marker comes before the initial marker, then return an empty string."
   ]
  },
  {
   "cell_type": "code",
   "execution_count": 48,
   "metadata": {
    "collapsed": false
   },
   "outputs": [
    {
     "data": {
      "text/plain": [
       "'No'"
      ]
     },
     "execution_count": 48,
     "metadata": {
     },
     "output_type": "execute_result"
    }
   ],
   "source": [
    "def between_markers(text: str, begin: str, end: str) -> str:   \n",
    "    start_point = text.find(begin) + (len(begin)) if begin in text else None\n",
    "    end_point = text.find(end) if end in text else None\n",
    "\n",
    "    return text[start_point:end_point]\n",
    "\n",
    "between_markers('No[/b] hi', '[b]', '[/b]')"
   ]
  },
  {
   "cell_type": "raw",
   "metadata": {
    "collapsed": false
   },
   "source": [
    "**Task11**\n",
    "You are given a non-empty list of integers (X). For this task, you should return a list consisting of only the non-unique elements in this list. To do so you will need to remove all unique elements (elements which are contained in a given list only once). When solving this task, do not change the order of the list. <br>\n",
    "Example: [1, 2, 3, 1, 3] 1 and 3 non-unique elements and result will be [1, 3, 1, 3]."
   ]
  },
  {
   "cell_type": "code",
   "execution_count": 81,
   "metadata": {
    "collapsed": false
   },
   "outputs": [
    {
     "data": {
      "text/plain": [
       "[1, 3, 1, 3]"
      ]
     },
     "execution_count": 81,
     "metadata": {
     },
     "output_type": "execute_result"
    }
   ],
   "source": [
    "def checkio(numbers:list):\n",
    "    for i,number in enumerate(numbers):\n",
    "        if number not in (numbers[:i] or numbers[i+1:]):\n",
    "            numbers.remove(number)   \n",
    "    return numbers\n",
    "\n",
    "checkio([1, 2, 3, 1, 3])"
   ]
  },
  {
   "cell_type": "raw",
   "metadata": {
    "collapsed": false
   },
   "source": [
    "**Task12**\n",
    "In this mission your task is to determine the popularity of certain words in the text.\n",
    "\n",
    "At the input of your function are given 2 arguments: the text and the array of words the popularity of which you need to determine.\n",
    "\n",
    "When solving this task pay attention to the following points:\n",
    "-The words should be sought in all registers. This means that if you need to find a word \"one\" then words like \"one\", \"One\", \"oNe\", \"ONE\" etc. will do.\n",
    "-The search words are always indicated in the lowercase.\n",
    "-If the word wasn’t found even once, it has to be returned in the dictionary with 0 (zero) value."
   ]
  },
  {
   "cell_type": "code",
   "execution_count": 2,
   "metadata": {
    "collapsed": false
   },
   "outputs": [
    {
     "data": {
      "text/plain": [
       "{'i': 4, 'was': 3, 'three': 0, 'near': 1}"
      ]
     },
     "execution_count": 2,
     "metadata": {
     },
     "output_type": "execute_result"
    }
   ],
   "source": [
    "def popular_words(text: str, words:list) -> dict:\n",
    "    popularity = {}\n",
    "    text = text.lower()\n",
    "    for word in words:\n",
    "        popularity[word] = text.count(word)\n",
    "    return popularity\n",
    "\n",
    "popular_words('When I was One I had just begun When I was Two I was nearly new',\n",
    "              ['i', 'was', 'three', 'near'])"
   ]
  },
  {
   "cell_type": "raw",
   "metadata": {
    "collapsed": false
   },
   "source": [
    "**Task13**\n",
    "You are given two strings and you have to find an index of the second occurrence of the second string in the first one.\n",
    "\n",
    "Let's go through the first example where you need to find the second occurrence of \"s\" in a word \"sims\". It’s easy to find its first occurrence with a function index or find which will point out that \"s\" is the first symbol in a word \"sims\" and therefore the index of the first occurrence is 0. But we have to find the second \"s\" which is 4th in a row and that means that the index of the second occurrence (and the answer to a question) is 3."
   ]
  },
  {
   "cell_type": "code",
   "execution_count": 9,
   "metadata": {
    "collapsed": false
   },
   "outputs": [
    {
     "data": {
      "text/plain": [
       "12"
      ]
     },
     "execution_count": 9,
     "metadata": {
     },
     "output_type": "execute_result"
    }
   ],
   "source": [
    "def second_index(text:str, look_for:str) -> int:\n",
    "    first_occurence = False\n",
    "    if look_for in text:\n",
    "        first_index = text.find(look_for)\n",
    "        second_index = text[first_index+1:].find(look_for) + (first_index+1)\n",
    "    return second_index\n",
    "\n",
    "second_index(\"find the river\", \"e\")"
   ]
  },
  {
   "cell_type": "raw",
   "metadata": {
    "collapsed": false
   },
   "source": [
    "**Task14**\n",
    "Sort the given iterable so that its elements end up in the decreasing frequency order, that is, the number of times they appear in elements. If two elements have the same frequency, they should end up in the same order as the first appearance in the iterable."
   ]
  },
  {
   "cell_type": "code",
   "execution_count": 14,
   "metadata": {
    "collapsed": false
   },
   "outputs": [
    {
     "data": {
      "text/plain": [
       "[4, 4, 4, 4, 6, 6, 2, 2]"
      ]
     },
     "execution_count": 14,
     "metadata": {
     },
     "output_type": "execute_result"
    }
   ],
   "source": [
    "def frequency_sort(elements:list) -> list:\n",
    "    final_list = []\n",
    "    for element in elements:\n",
    "        if len(final_list) == len(elements):\n",
    "            break\n",
    "        repetition = elements.count(element)\n",
    "        for i in range(repetition):\n",
    "            final_list.append(element)\n",
    "    return final_list\n",
    "\n",
    "frequency_sort([4, 6, 2, 2, 6, 4, 4, 4])"
   ]
  },
  {
   "cell_type": "raw",
   "metadata": {
    "collapsed": false
   },
   "source": [
    "**Task15**\n",
    "You are given a set of square coordinates where we have placed white pawns. You should count how many pawns are safe."
   ]
  },
  {
   "cell_type": "code",
   "execution_count": 44,
   "metadata": {
    "collapsed": false
   },
   "outputs": [
    {
     "data": {
      "text/plain": [
       "6"
      ]
     },
     "execution_count": 44,
     "metadata": {
     },
     "output_type": "execute_result"
    }
   ],
   "source": [
    "#used google for searching of lambda sorting\n",
    "def safe_pawns(pawns:set) -> int:\n",
    "    protected_pawns = 0\n",
    "    #used to verify whether this field has already been protected or not\n",
    "    protected_squares = []\n",
    "    #split every coordinate to list['a','1']\n",
    "    pawns_list = [list(pawn) for pawn in pawns]\n",
    "    #sort by rows thats important because the lowest pawn is unprotected for sure\n",
    "    pawns_list.sort(key = lambda x : x[1])\n",
    "\n",
    "    for pawn in pawns_list:\n",
    "        save_square_1 = [chr(ord(pawn[0]) + 1), str(int(pawn[1]) + 1)]\n",
    "        save_square_2 = [chr(ord(pawn[0]) - 1), str(int(pawn[1]) + 1)]\n",
    "        \n",
    "        if save_square_1 in protected_squares:\n",
    "            if save_square_2 in pawns_list:\n",
    "                protected_pawns += 1\n",
    "                \n",
    "        elif save_square_2 in protected_squares:\n",
    "            if save_square_1 in pawns_list:\n",
    "                protected_pawns += 1\n",
    "        \n",
    "        elif save_square_1 or save_square_2 in pawns_list:\n",
    "            protected_pawns += 1\n",
    "            \n",
    "        protected_squares.extend([save_square_1, save_square_2])   \n",
    "    return protected_pawns\n",
    "\n",
    "safe_pawns({\"b4\", \"d4\", \"f4\", \"c3\", \"e3\", \"g5\", \"d2\"})"
   ]
  },
  {
   "cell_type": "raw",
   "metadata": {
    "collapsed": false
   },
   "source": [
    "**Task16**\n",
    "Your task is to find the angle of the sun above the horizon knowing the time of the day. Input data: the sun rises in the East at 6:00 AM, which corresponds to the angle of 0 degrees. At 12:00 PM the sun reaches its zenith, which means that the angle equals 90 degrees. 6:00 PM is the time of the sunset so the angle is 180 degrees. If the input will be the time of the night (before 6:00 AM or after 6:00 PM), your function should return - \"I don't see the sun!\"."
   ]
  },
  {
   "cell_type": "code",
   "execution_count": 18,
   "metadata": {
    "collapsed": false
   },
   "outputs": [
    {
     "data": {
      "text/plain": [
       "16.25"
      ]
     },
     "execution_count": 18,
     "metadata": {
     },
     "output_type": "execute_result"
    }
   ],
   "source": [
    "from datetime import datetime, date\n",
    "#used google\n",
    "def sun_angle(time):\n",
    "    time = datetime.strptime(time, '%H:%M').time()\n",
    "    \n",
    "    night_time_start = datetime.strptime('18:00', '%H:%M').time()\n",
    "    night_time_end = datetime.strptime('06:00', '%H:%M').time()\n",
    "    #time when the sun is visible\n",
    "    day_time = datetime.combine(date.min, night_time_start) - datetime.combine(date.min, night_time_end)\n",
    "    degree_per_minute = 180/(day_time.seconds/60)\n",
    "    \n",
    "    if night_time_end <= time >= night_time_start:\n",
    "        angle = \"I don't see the sun!\"\n",
    "    else:\n",
    "        current_time = datetime.combine(date.min, time) - datetime.combine(date.min, night_time_end)\n",
    "        angle = current_time.seconds / 60 * degree_per_minute  \n",
    "    return round(angle,2)\n",
    "\n",
    "sun_angle('07:05') "
   ]
  },
  {
   "cell_type": "raw",
   "metadata": {
    "collapsed": false
   },
   "source": [
    "**Task 17**\n",
    "You have to split a given array into two arrays. If it has an odd amount of elements, then the first array should have more elements. If it has no elements, then two empty arrays should be returned."
   ]
  },
  {
   "cell_type": "code",
   "execution_count": 33,
   "metadata": {
    "collapsed": false
   },
   "outputs": [
    {
     "data": {
      "text/plain": [
       "[[1, 2, 3], [4, 5]]"
      ]
     },
     "execution_count": 33,
     "metadata": {
     },
     "output_type": "execute_result"
    }
   ],
   "source": [
    "import math \n",
    "\n",
    "def split_list(items: list) -> list:\n",
    "    items_number = len(items)\n",
    "    split_point = math.ceil(items_number/2)\n",
    "    return [items[:split_point], items[split_point:]]\n",
    "\n",
    "split_list([1,2,3,4,5])"
   ]
  },
  {
   "cell_type": "raw",
   "metadata": {
    "collapsed": false
   },
   "source": [
    "**Task 18**\n",
    "In this mission you should check if all elements in the given list are equal."
   ]
  },
  {
   "cell_type": "code",
   "execution_count": 43,
   "metadata": {
    "collapsed": false
   },
   "outputs": [
    {
     "data": {
      "text/plain": [
       "False"
      ]
     },
     "execution_count": 43,
     "metadata": {
     },
     "output_type": "execute_result"
    }
   ],
   "source": [
    "from typing import List, Any\n",
    "\n",
    "def all_the_same(elements:List[Any]) -> bool:\n",
    "    the_same = all(element is elements[0] for element in elements)\n",
    "    return the_same\n",
    "\n",
    "all_the_same(['1', '1', '2'])"
   ]
  },
  {
   "cell_type": "raw",
   "metadata": {
    "collapsed": false
   },
   "source": [
    "**Task19**\n",
    "Computer date and time format consists only of numbers, for example: 21.05.2018 16:30\n",
    "Humans prefer to see something like this: 21 May 2018 year, 16 hours 30 minutes\n",
    "Your task is simple - convert the input date and time from computer format into a \"human\" format."
   ]
  },
  {
   "cell_type": "code",
   "execution_count": 67,
   "metadata": {
    "collapsed": false
   },
   "outputs": [
    {
     "data": {
      "text/plain": [
       "'1 January 2000 year, 1 hour 0 minutes'"
      ]
     },
     "execution_count": 67,
     "metadata": {
     },
     "output_type": "execute_result"
    }
   ],
   "source": [
    "from datetime import datetime\n",
    "\n",
    "def date_time(time:str) -> str:\n",
    "    convert = datetime.strptime(time, '%d.%m.%Y %H:%M')\n",
    "    if convert.hour == 1 and convert.minute == 1:\n",
    "        final_time_view = convert.strftime(\"%d %B %Y year, %H hour %M minute\").lstrip(\"0\").replace(\" 0\", \" \")\n",
    "    elif convert.hour == 1:\n",
    "        final_time_view = convert.strftime(\"%d %B %Y year, %H hour %M minutes\").lstrip(\"0\").replace(\" 0\", \" \")\n",
    "    elif convert.minute == 1:\n",
    "        final_time_view = convert.strftime(\"%d %B %Y year, %H hours %M minute\").lstrip(\"0\").replace(\" 0\", \" \")\n",
    "    else:\n",
    "        final_time_view = convert.strftime(\"%d %B %Y year, %H hours %M minutes\").lstrip(\"0\").replace(\" 0\", \" \")\n",
    "\n",
    "    return final_time_view\n",
    "\n",
    "date_time(\"01.01.2000 01:00\")"
   ]
  },
  {
   "cell_type": "raw",
   "metadata": {
    "collapsed": false
   },
   "source": [
    "**Task20**\n",
    "Your task is to decrypt the secret message using the Morse code.\n",
    "The message will consist of words with 3 spaces between them and 1 space between each letter of each word.\n",
    "If the decrypted text starts with a letter then you'll have to print this letter in uppercase."
   ]
  },
  {
   "cell_type": "code",
   "execution_count": 88,
   "metadata": {
    "collapsed": false
   },
   "outputs": [
    {
     "data": {
      "text/plain": [
       "'2018'"
      ]
     },
     "execution_count": 88,
     "metadata": {
     },
     "output_type": "execute_result"
    }
   ],
   "source": [
    "# Dictionary representing the morse code\n",
    "MORSE_CODE = { 'A':'.-', 'B':'-...', \n",
    "                    'C':'-.-.', 'D':'-..', 'E':'.', \n",
    "                    'F':'..-.', 'G':'--.', 'H':'....', \n",
    "                    'I':'..', 'J':'.---', 'K':'-.-', \n",
    "                    'L':'.-..', 'M':'--', 'N':'-.', \n",
    "                    'O':'---', 'P':'.--.', 'Q':'--.-', \n",
    "                    'R':'.-.', 'S':'...', 'T':'-', \n",
    "                    'U':'..-', 'V':'...-', 'W':'.--', \n",
    "                    'X':'-..-', 'Y':'-.--', 'Z':'--..', \n",
    "                    '1':'.----', '2':'..---', '3':'...--', \n",
    "                    '4':'....-', '5':'.....', '6':'-....', \n",
    "                    '7':'--...', '8':'---..', '9':'----.', \n",
    "                    '0':'-----', ', ':'--..--', '.':'.-.-.-', \n",
    "                    '?':'..--..', '/':'-..-.', '-':'-....-', \n",
    "                    '(':'-.--.', ')':'-.--.-'}\n",
    "\n",
    "def morse_decoder(message):\n",
    "    # extra space added at the end to access the last morse code \n",
    "    message += ' '\n",
    "    decrypt = '' \n",
    "    citext = '' \n",
    "    \n",
    "    for letter in message: \n",
    "        # checks for spaces \n",
    "        if (letter != ' '): \n",
    "            # counter to keep track of spaces \n",
    "            i = 0\n",
    "            # save characters\n",
    "            citext += letter  \n",
    "        else: \n",
    "            # if i = 1 that indicates a new character \n",
    "            i += 1\n",
    "            # if i = 3 that indicates a new word\n",
    "            if i == 2:\n",
    "                pass\n",
    "            elif i == 3: \n",
    "                # adding space to separate words \n",
    "                decrypt += ' '\n",
    "            else: \n",
    "                # accessing the keys using their values (reverse of encryption) \n",
    "                decrypt += list(MORSE_CODE.keys())[list(MORSE_CODE.values()).index(citext)] \n",
    "                citext = '' \n",
    "    return decrypt.lower().capitalize()\n",
    "    \n",
    "morse_decoder(\"..--- ----- .---- ---..\")"
   ]
  }
 ],
 "metadata": {
  "kernelspec": {
   "display_name": "Python 3 (Anaconda 2020)",
   "env": {
    "ADDR2LINE": "/ext/anaconda2020.02/bin/x86_64-conda_cos6-linux-gnu-addr2line",
    "ANACONDA2019": "$EXT/anaconda-2019.03",
    "ANACONDA2020": "/ext/anaconda2020.02",
    "ANACONDA3": "$EXT/anaconda3",
    "ANACONDA5": "$EXT/anaconda5",
    "AR": "/ext/anaconda2020.02/bin/x86_64-conda_cos6-linux-gnu-ar",
    "AS": "/ext/anaconda2020.02/bin/x86_64-conda_cos6-linux-gnu-as",
    "CC": "/ext/anaconda2020.02/bin/x86_64-conda_cos6-linux-gnu-cc",
    "CFLAGS": "-march=nocona -mtune=haswell -ftree-vectorize -fPIC -fstack-protector-strong -fno-plt -O2 -ffunction-sections -pipe -isystem /ext/anaconda2020.02/include",
    "CMAKE_PREFIX_PATH": "/ext/anaconda2020.02:/ext/anaconda2020.02/x86_64-conda_cos6-linux-gnu/sysroot/usr",
    "CONDA_BACKUP_HOST": "x86_64-conda_cos6-linux-gnu",
    "CONDA_BUILD_SYSROOT": "/ext/anaconda2020.02/x86_64-conda_cos6-linux-gnu/sysroot",
    "CONDA_DEFAULT_ENV": "base",
    "CONDA_EXE": "/ext/anaconda2020.02/bin/conda",
    "CONDA_MKL_INTERFACE_LAYER_BACKUP": "",
    "CONDA_PREFIX": "/ext/anaconda2020.02",
    "CONDA_PROMPT_MODIFIER": "(base) ",
    "CONDA_PYTHON_EXE": "/ext/anaconda2020.02/bin/python",
    "CONDA_SHLVL": "1",
    "CPP": "/ext/anaconda2020.02/bin/x86_64-conda_cos6-linux-gnu-cpp",
    "CPPFLAGS": "-DNDEBUG -D_FORTIFY_SOURCE=2 -O2 -isystem /ext/anaconda2020.02/include",
    "CXX": "/ext/anaconda2020.02/bin/x86_64-conda_cos6-linux-gnu-c++",
    "CXXFILT": "/ext/anaconda2020.02/bin/x86_64-conda_cos6-linux-gnu-c++filt",
    "CXXFLAGS": "-fvisibility-inlines-hidden -std=c++17 -fmessage-length=0 -march=nocona -mtune=haswell -ftree-vectorize -fPIC -fstack-protector-strong -fno-plt -O2 -ffunction-sections -pipe -isystem /ext/anaconda2020.02/include",
    "DEBUG_CFLAGS": "-march=nocona -mtune=haswell -ftree-vectorize -fPIC -fstack-protector-all -fno-plt -Og -g -Wall -Wextra -fvar-tracking-assignments -ffunction-sections -pipe -isystem /ext/anaconda2020.02/include",
    "DEBUG_CPPFLAGS": "-D_DEBUG -D_FORTIFY_SOURCE=2 -Og -isystem /ext/anaconda2020.02/include",
    "DEBUG_CXXFLAGS": "-fvisibility-inlines-hidden -std=c++17 -fmessage-length=0 -march=nocona -mtune=haswell -ftree-vectorize -fPIC -fstack-protector-all -fno-plt -Og -g -Wall -Wextra -fvar-tracking-assignments -ffunction-sections -pipe -isystem /ext/anaconda2020.02/include",
    "DEBUG_FFLAGS": "-fopenmp -march=nocona -mtune=haswell -ftree-vectorize -fPIC -fstack-protector-strong -fno-plt -O2 -ffunction-sections -pipe -isystem /ext/anaconda2020.02/include -fopenmp -march=nocona -mtune=haswell -ftree-vectorize -fPIC -fstack-protector-all -fno-plt -Og -g -Wall -Wextra -fcheck=all -fbacktrace -fimplicit-none -fvar-tracking-assignments -ffunction-sections -pipe",
    "DEBUG_FORTRANFLAGS": "-fopenmp -march=nocona -mtune=haswell -ftree-vectorize -fPIC -fstack-protector-strong -fno-plt -O2 -ffunction-sections -pipe -isystem /ext/anaconda2020.02/include -fopenmp -march=nocona -mtune=haswell -ftree-vectorize -fPIC -fstack-protector-all -fno-plt -Og -g -Wall -Wextra -fcheck=all -fbacktrace -fimplicit-none -fvar-tracking-assignments -ffunction-sections -pipe",
    "ELFEDIT": "/ext/anaconda2020.02/bin/x86_64-conda_cos6-linux-gnu-elfedit",
    "F77": "/ext/anaconda2020.02/bin/x86_64-conda_cos6-linux-gnu-gfortran",
    "F90": "/ext/anaconda2020.02/bin/x86_64-conda_cos6-linux-gnu-gfortran",
    "F95": "/ext/anaconda2020.02/bin/x86_64-conda_cos6-linux-gnu-f95",
    "FC": "/ext/anaconda2020.02/bin/x86_64-conda_cos6-linux-gnu-gfortran",
    "FFLAGS": "-fopenmp -march=nocona -mtune=haswell -ftree-vectorize -fPIC -fstack-protector-strong -fno-plt -O2 -ffunction-sections -pipe -isystem /ext/anaconda2020.02/include",
    "FORTRANFLAGS": "-fopenmp -march=nocona -mtune=haswell -ftree-vectorize -fPIC -fstack-protector-strong -fno-plt -O2 -ffunction-sections -pipe -isystem /ext/anaconda2020.02/include",
    "GCC": "/ext/anaconda2020.02/bin/x86_64-conda_cos6-linux-gnu-gcc",
    "GCC_AR": "/ext/anaconda2020.02/bin/x86_64-conda_cos6-linux-gnu-gcc-ar",
    "GCC_NM": "/ext/anaconda2020.02/bin/x86_64-conda_cos6-linux-gnu-gcc-nm",
    "GCC_RANLIB": "/ext/anaconda2020.02/bin/x86_64-conda_cos6-linux-gnu-gcc-ranlib",
    "GDAL_DATA": "/ext/anaconda2020.02/share/gdal",
    "GFORTRAN": "/ext/anaconda2020.02/bin/x86_64-conda_cos6-linux-gnu-gfortran",
    "GPROF": "/ext/anaconda2020.02/bin/x86_64-conda_cos6-linux-gnu-gprof",
    "GXX": "/ext/anaconda2020.02/bin/x86_64-conda_cos6-linux-gnu-g++",
    "JAVA_HOME": "/ext/anaconda2020.02",
    "JAVA_HOME_CONDA_BACKUP": "",
    "JAVA_LD_LIBRARY_PATH": "/ext/anaconda2020.02/lib/server",
    "LD": "/ext/anaconda2020.02/bin/x86_64-conda_cos6-linux-gnu-ld",
    "LDFLAGS": "-Wl,-O2 -Wl,--sort-common -Wl,--as-needed -Wl,-z,relro -Wl,-z,now -Wl,--disable-new-dtags -Wl,--gc-sections -Wl,-rpath,/ext/anaconda2020.02/lib -Wl,-rpath-link,/ext/anaconda2020.02/lib -L/ext/anaconda2020.02/lib",
    "LD_GOLD": "/ext/anaconda2020.02/bin/x86_64-conda_cos6-linux-gnu-ld.gold",
    "LD_LIBRARY_PATH": "/ext/anaconda2020.02/lib",
    "MKL_INTERFACE_LAYER": "LP64,GNU",
    "MKL_THREADING_LAYER": "GNU",
    "NM": "/ext/anaconda2020.02/bin/x86_64-conda_cos6-linux-gnu-nm",
    "OBJCOPY": "/ext/anaconda2020.02/bin/x86_64-conda_cos6-linux-gnu-objcopy",
    "OBJDUMP": "/ext/anaconda2020.02/bin/x86_64-conda_cos6-linux-gnu-objdump",
    "OLDPWD": "/ext/anaconda2020.02",
    "PATH": "/ext/anaconda2020.02/bin:/ext/anaconda2020.02/bin:/ext/anaconda2020.02/condabin:/cocalc/bin:/cocalc/src/smc-project/bin:/home/salvus/bin:/home/salvus/.local/bin:/usr/lib/xpra:/ext/bin:/opt/ghc/bin:/usr/local/sbin:/usr/local/bin:/usr/sbin:/usr/bin:/sbin:/bin:/snap/bin:/usr/lib/postgresql/10/bin:/ext/data/homer/bin:/ext/data/weblogo",
    "PROJ_LIB": "/ext/anaconda2020.02/share/proj",
    "RANLIB": "/ext/anaconda2020.02/bin/x86_64-conda_cos6-linux-gnu-ranlib",
    "READELF": "/ext/anaconda2020.02/bin/x86_64-conda_cos6-linux-gnu-readelf",
    "RSTUDIO_WHICH_R": "/ext/anaconda2020.02/bin/R",
    "SIZE": "/ext/anaconda2020.02/bin/x86_64-conda_cos6-linux-gnu-size",
    "STRINGS": "/ext/anaconda2020.02/bin/x86_64-conda_cos6-linux-gnu-strings",
    "STRIP": "/ext/anaconda2020.02/bin/x86_64-conda_cos6-linux-gnu-strip",
    "_CE_CONDA": "",
    "_CE_M": "",
    "_CONDA_PYTHON_SYSCONFIGDATA_NAME": "_sysconfigdata_x86_64_conda_cos6_linux_gnu"
   },
   "language": "python",
   "metadata": {
    "cocalc": {
     "description": "Python/R distribution for data science",
     "priority": 5,
     "url": "https://www.anaconda.com/distribution/"
    }
   },
   "name": "anaconda2020"
  },
  "language_info": {
   "codemirror_mode": {
    "name": "ipython",
    "version": 3
   },
   "file_extension": ".py",
   "mimetype": "text/x-python",
   "name": "python",
   "nbconvert_exporter": "python",
   "pygments_lexer": "ipython3",
   "version": "3.7.8"
  }
 },
 "nbformat": 4,
 "nbformat_minor": 4
}